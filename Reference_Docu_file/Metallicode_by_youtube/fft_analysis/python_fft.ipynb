{
 "metadata": {
  "language_info": {
   "codemirror_mode": {
    "name": "ipython",
    "version": 3
   },
   "file_extension": ".py",
   "mimetype": "text/x-python",
   "name": "python",
   "nbconvert_exporter": "python",
   "pygments_lexer": "ipython3",
   "version": "3.8.5-final"
  },
  "orig_nbformat": 2,
  "kernelspec": {
   "name": "python38564bit2a70bc77268b4f81b593ce476bb08a4d",
   "display_name": "Python 3.8.5 64-bit"
  }
 },
 "nbformat": 4,
 "nbformat_minor": 2,
 "cells": [
  {
   "cell_type": "code",
   "execution_count": 1,
   "metadata": {
    "tags": []
   },
   "outputs": [
    {
     "output_type": "stream",
     "name": "stdout",
     "text": "48000\n769275\n16.0265625\n"
    }
   ],
   "source": [
    "\n",
    "import scipy.io.wavfile as wavfile\n",
    "import scipy\n",
    "import scipy.fftpack as fftpk\n",
    "import numpy as np\n",
    "from matplotlib import pyplot as plt\n",
    "%matplotlib tk\n",
    "s_rate, signal = wavfile.read(\"tibet.wav\") \n",
    "\n",
    "print(s_rate)  #48000Hz \n",
    "print(len(signal))  # [ 1 -2  2 ...  2 -2  3] , 769275 samples\n",
    "print(len(signal)/s_rate) # 16.0265625 second \n",
    "\n",
    "\n",
    "\n",
    "# FFT = abs(scipy.fft(signal))\n",
    "# freqs = fftpk.fftfreq(len(FFT), (1.0/s_rate))\n",
    "\n",
    "# plt.plot(freqs[range(len(FFT)//2)], FFT[range(len(FFT)//2)],',')                                                          \n",
    "# plt.xlabel('Frequency (Hz)')\n",
    "# plt.ylabel('Amplitude')\n",
    "# plt.show()\n"
   ]
  },
  {
   "cell_type": "code",
   "execution_count": 10,
   "metadata": {
    "tags": []
   },
   "outputs": [
    {
     "output_type": "stream",
     "name": "stdout",
     "text": "[0.00000000e+00 2.07988311e-05 4.15976622e-05 ... 1.59999584e+01\n 1.59999792e+01 1.60000000e+01]\n"
    }
   ],
   "source": [
    "time1 = np.linspace(0, 16, 769275)\n",
    "time2 = np.linspace(0, 16, len(signal)//2)\n",
    "print(time1) # (0 ~ 16)\n",
    "\n",
    "plt.plot(time1, signal, ',')\n",
    "plt.show()"
   ]
  },
  {
   "cell_type": "code",
   "execution_count": 11,
   "metadata": {
    "tags": []
   },
   "outputs": [
    {
     "output_type": "stream",
     "name": "stdout",
     "text": "769275\n"
    }
   ],
   "source": [
    "FFT = np.abs(scipy.fft(signal))\n",
    "FFT2 = FFT[0:len(signal)//2]\n",
    "print(len(FFT))  # 769275 samples \n",
    "plt.plot(time1, FFT, time2, FFT2 )\n",
    "plt.show()"
   ]
  },
  {
   "cell_type": "code",
   "execution_count": 14,
   "metadata": {
    "tags": []
   },
   "outputs": [
    {
     "output_type": "stream",
     "name": "stdout",
     "text": "[2902.5290461 +0.00000000e+00j 2509.05553818-3.67750516e-14j\n 2441.0006512 +4.83148697e-14j 2245.88604619-1.63942932e-14j\n 2093.20933201-3.71186609e-14j 1983.64677804+3.49842053e-14j\n 1934.28495311+4.25726725e-14j 1921.47511988+3.31525429e-14j\n 1921.06541248+8.52387211e-14j 1903.67411493+4.93494848e-14j] 769275\n"
    }
   ],
   "source": [
    "iFFT = scipy.ifft(FFT)\n",
    "iFFT2 = scipy.ifft(FFT2)\n",
    "print(iFFT[0:10], len(iFFT))\n",
    "plt.plot(time2,np.abs(iFFT2))\n",
    "plt.show()"
   ]
  },
  {
   "cell_type": "code",
   "execution_count": null,
   "metadata": {},
   "outputs": [],
   "source": []
  },
  {
   "cell_type": "code",
   "execution_count": null,
   "metadata": {},
   "outputs": [],
   "source": [
    "ax = freqs[range(len(FFT)//2)]\n",
    "bx = FFT[range(len(FFT)//2)]\n",
    "\n",
    "e = len(FFT)       # 769275  integer\n",
    "ex = len(FFT)/2    # 384637.5, float\n",
    "exx = len(FFT)//2  # 384637 integer\n",
    "\n",
    "\n",
    "\n",
    "\n",
    "ax, bx,e,  ex, exx , type(len(FFT))"
   ]
  },
  {
   "cell_type": "code",
   "execution_count": null,
   "metadata": {},
   "outputs": [],
   "source": [
    "# plt.plot(freqs[range(len(FFT)//2)], FFT[range(len(FFT)//2)],',')     \n",
    "\n",
    "plt.plot(ax, bx,'-')     \n",
    "plt.xlabel('Frequency (Hz)')\n",
    "plt.ylabel('Amplitude')\n",
    "plt.show()    "
   ]
  },
  {
   "cell_type": "code",
   "execution_count": null,
   "metadata": {},
   "outputs": [],
   "source": []
  }
 ]
}