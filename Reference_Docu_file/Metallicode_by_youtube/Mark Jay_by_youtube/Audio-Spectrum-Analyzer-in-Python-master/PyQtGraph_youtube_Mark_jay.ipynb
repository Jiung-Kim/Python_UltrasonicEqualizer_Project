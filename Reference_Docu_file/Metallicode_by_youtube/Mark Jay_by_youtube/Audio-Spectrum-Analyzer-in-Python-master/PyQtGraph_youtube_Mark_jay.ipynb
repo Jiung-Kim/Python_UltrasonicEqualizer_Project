{
 "metadata": {
  "language_info": {
   "codemirror_mode": {
    "name": "ipython",
    "version": 3
   },
   "file_extension": ".py",
   "mimetype": "text/x-python",
   "name": "python",
   "nbconvert_exporter": "python",
   "pygments_lexer": "ipython3",
   "version": "3.8.5-final"
  },
  "orig_nbformat": 2,
  "kernelspec": {
   "name": "python38564bit2a70bc77268b4f81b593ce476bb08a4d",
   "display_name": "Python 3.8.5 64-bit"
  }
 },
 "nbformat": 4,
 "nbformat_minor": 2,
 "cells": [
  {
   "cell_type": "code",
   "execution_count": 1,
   "metadata": {},
   "outputs": [],
   "source": [
    "# 코드 출쳐 https://gist.github.com/Overdrivr/ed140520493e5d0f248d\n",
    "\n",
    "# -*- coding: utf-8 -*-\n",
    "from pyqtgraph.Qt import QtGui, QtCore\n",
    "import numpy as np\n",
    "from numpy import arange, sin, cos, pi\n",
    "import pyqtgraph as pg\n",
    "import sys\n",
    "\n",
    "class Plot2D():\n",
    "    def __init__(self):\n",
    "        self.traces = dict()\n",
    "\n",
    "        #QtGui.QApplication.setGraphicsSystem('raster')\n",
    "        self.app = QtGui.QApplication([])\n",
    "        #mw = QtGui.QMainWindow()\n",
    "        #mw.resize(800,800)\n",
    "\n",
    "        self.win = pg.GraphicsWindow(title=\"Basic plotting examples\")\n",
    "        self.win.resize(1000,600)\n",
    "        self.win.setWindowTitle('pyqtgraph example: Plotting')\n",
    "\n",
    "        # Enable antialiasing for prettier plots\n",
    "        pg.setConfigOptions(antialias=True)\n",
    "\n",
    "        self.canvas = self.win.addPlot(title=\"Pytelemetry\")\n",
    "\n",
    "    def start(self):\n",
    "        if (sys.flags.interactive != 1) or not hasattr(QtCore, 'PYQT_VERSION'):\n",
    "            QtGui.QApplication.instance().exec_()\n",
    "\n",
    "    def trace(self,name,dataset_x,dataset_y):\n",
    "        if name in self.traces:\n",
    "            self.traces[name].setData(dataset_x,dataset_y)\n",
    "        else:\n",
    "            self.traces[name] = self.canvas.plot(pen='y')\n",
    "\n",
    "## Start Qt event loop unless running in interactive mode or using pyside.\n",
    "if __name__ == '__main__':\n",
    "    p = Plot2D()\n",
    "    i = 0\n",
    "\n",
    "    def update():\n",
    "        global p, i\n",
    "        t = np.arange(0,3.0,0.01)\n",
    "        s = sin(2 * pi * t + i)\n",
    "        c = cos(2 * pi * t + i)\n",
    "        p.trace(\"sin\",t,s)\n",
    "        p.trace(\"cos\",t,c)\n",
    "        i += 0.1\n",
    "\n",
    "    timer = QtCore.QTimer()\n",
    "    timer.timeout.connect(update)\n",
    "    timer.start(50)\n",
    "\n",
    "    p.start()"
   ]
  },
  {
   "cell_type": "code",
   "execution_count": null,
   "metadata": {},
   "outputs": [],
   "source": []
  }
 ]
}