{
 "metadata": {
  "language_info": {
   "codemirror_mode": {
    "name": "ipython",
    "version": 3
   },
   "file_extension": ".py",
   "mimetype": "text/x-python",
   "name": "python",
   "nbconvert_exporter": "python",
   "pygments_lexer": "ipython3",
   "version": "3.8.5-final"
  },
  "orig_nbformat": 2,
  "kernelspec": {
   "name": "python38564bit2a70bc77268b4f81b593ce476bb08a4d",
   "display_name": "Python 3.8.5 64-bit"
  }
 },
 "nbformat": 4,
 "nbformat_minor": 2,
 "cells": [
  {
   "cell_type": "code",
   "execution_count": null,
   "metadata": {},
   "outputs": [],
   "source": [
    "## Scipy.org 에서 fft / ifft docs 에서 거져옴\n"
   ]
  },
  {
   "cell_type": "code",
   "execution_count": null,
   "metadata": {},
   "outputs": [],
   "source": [
    "# from pyqtgraph.Qt import QtGui, QtCore\n",
    "# import numpy as np\n",
    "# import pyqtgraph as pg\n",
    "# import sys\n",
    "# import pyaudio\n",
    "# import os\n",
    "# import struct\n",
    "# from scipy.fftpack import fft\n",
    "# from scipy.fftpack import ifft\n"
   ]
  },
  {
   "cell_type": "code",
   "execution_count": 1,
   "metadata": {},
   "outputs": [
    {
     "output_type": "execute_result",
     "data": {
      "text/plain": "array([ 1.-0.j,  0.+1.j, -1.-0.j,  0.-1.j])"
     },
     "metadata": {},
     "execution_count": 1
    }
   ],
   "source": [
    "import scipy.io.wavfile as wavfile\n",
    "import scipy\n",
    "import scipy.fftpack as fftpk\n",
    "import numpy as np\n",
    "import scipy.fft\n",
    "import matplotlib.pyplot as plt\n",
    "import numpy as np\n",
    "\n",
    "%matplotlib tk\n",
    "scipy.fft.ifft([0 , 4, 0 ,0]) # array([ 1.-0.j,  0.+1.j, -1.-0.j,  0.-1.j])"
   ]
  },
  {
   "cell_type": "code",
   "execution_count": 7,
   "metadata": {
    "tags": []
   },
   "outputs": [
    {
     "output_type": "error",
     "ename": "NameError",
     "evalue": "name 's' is not defined",
     "traceback": [
      "\u001b[1;31m---------------------------------------------------------------------------\u001b[0m",
      "\u001b[1;31mNameError\u001b[0m                                 Traceback (most recent call last)",
      "\u001b[1;32m<ipython-input-7-d6fc678a767b>\u001b[0m in \u001b[0;36m<module>\u001b[1;34m\u001b[0m\n\u001b[0;32m      9\u001b[0m \u001b[0mfftnsin\u001b[0m \u001b[1;33m=\u001b[0m \u001b[0mscipy\u001b[0m\u001b[1;33m.\u001b[0m\u001b[0mfft\u001b[0m\u001b[1;33m(\u001b[0m\u001b[0mnsin\u001b[0m\u001b[1;33m)\u001b[0m\u001b[1;33m\u001b[0m\u001b[1;33m\u001b[0m\u001b[0m\n\u001b[0;32m     10\u001b[0m \u001b[0mifftnsin\u001b[0m \u001b[1;33m=\u001b[0m \u001b[0mscipy\u001b[0m\u001b[1;33m.\u001b[0m\u001b[0mfft\u001b[0m\u001b[1;33m.\u001b[0m\u001b[0mifft\u001b[0m\u001b[1;33m(\u001b[0m\u001b[0mfftnsin\u001b[0m\u001b[1;33m)\u001b[0m \u001b[1;33m+\u001b[0m \u001b[1;36m1\u001b[0m \u001b[1;31m# origin sin wave\u001b[0m\u001b[1;33m\u001b[0m\u001b[1;33m\u001b[0m\u001b[0m\n\u001b[1;32m---> 11\u001b[1;33m \u001b[0ms\u001b[0m\u001b[1;33m[\u001b[0m\u001b[1;36m10\u001b[0m\u001b[1;33m:\u001b[0m\u001b[1;36m12\u001b[0m\u001b[1;33m]\u001b[0m\u001b[1;33m\u001b[0m\u001b[1;33m\u001b[0m\u001b[0m\n\u001b[0m\u001b[0;32m     12\u001b[0m \u001b[0mprint\u001b[0m\u001b[1;33m(\u001b[0m\u001b[0mtn\u001b[0m\u001b[1;33m)\u001b[0m\u001b[1;33m\u001b[0m\u001b[1;33m\u001b[0m\u001b[0m\n\u001b[0;32m     13\u001b[0m \u001b[0mplt\u001b[0m\u001b[1;33m.\u001b[0m\u001b[0mplot\u001b[0m\u001b[1;33m(\u001b[0m\u001b[0mt\u001b[0m\u001b[1;33m,\u001b[0m\u001b[0mn\u001b[0m\u001b[1;33m,\u001b[0m\u001b[0mt\u001b[0m\u001b[1;33m,\u001b[0m\u001b[0mnp\u001b[0m\u001b[1;33m.\u001b[0m\u001b[0mreal\u001b[0m\u001b[1;33m(\u001b[0m\u001b[0ms\u001b[0m\u001b[1;33m)\u001b[0m\u001b[1;33m,\u001b[0m\u001b[0mt\u001b[0m\u001b[1;33m,\u001b[0m\u001b[0mnp\u001b[0m\u001b[1;33m.\u001b[0m\u001b[0mimag\u001b[0m\u001b[1;33m(\u001b[0m\u001b[0ms\u001b[0m\u001b[1;33m)\u001b[0m\u001b[1;33m)\u001b[0m\u001b[1;33m\u001b[0m\u001b[1;33m\u001b[0m\u001b[0m\n",
      "\u001b[1;31mNameError\u001b[0m: name 's' is not defined"
     ]
    }
   ],
   "source": [
    "s_rate, signal = wavfile.read(\"tibet.wav\") \n",
    "\n",
    "t = np.arange(400)\n",
    "n = np.zeros((400), dtype=complex)\n",
    "tn = np.linspace(0, 10, 400)\n",
    "n[40:60] = np.exp(1j*np.random.uniform(0, 2*np.pi, (20,)))\n",
    "n[40:60]\n",
    "nsin = np.sin(np.pi*2*tn) + np.cos(np.pi*1.20*tn)\n",
    "fftnsin = scipy.fft(nsin)\n",
    "ifftnsin = scipy.fft.ifft(fftnsin) + 1 # origin sin wave\n",
    "s[10:12]\n",
    "print(tn)\n",
    "plt.plot(t,n,t,np.real(s),t,np.imag(s))\n",
    "# plt.plot(tn,nsin, tn,ifftnsin)\n",
    "plt.show()"
   ]
  },
  {
   "cell_type": "code",
   "execution_count": 3,
   "metadata": {},
   "outputs": [],
   "source": [
    "s_rate, signal = wavfile.read(\"tibet.wav\")  #fs=48000Hz,  769275 samples\n",
    "time1 = np.linspace(0, 16, 769275)     \n",
    "time2 = np.linspace(0, 16, len(signal)//2)\n",
    "\n",
    "sfft = scipy.fft(signal)\n",
    "halfsfft = sfft[:len(signal)//2] \n",
    "ihalfsfft = scipy.fft.ifft(halfsfft)\n",
    "isfft = scipy.fft.ifft(sfft)\n",
    "# plt.plot(time1, signal,'.', time2, ihalfsfft,'--') # ftt fs를 절반만 써도 정확하게 일치한다. \n",
    "plt.plot(time1,signal,'.',time1,isfft,'--')  # 정확하게 일치한다. \n",
    "plt.show()\n",
    "\n"
   ]
  },
  {
   "cell_type": "code",
   "execution_count": null,
   "metadata": {},
   "outputs": [],
   "source": []
  }
 ]
}