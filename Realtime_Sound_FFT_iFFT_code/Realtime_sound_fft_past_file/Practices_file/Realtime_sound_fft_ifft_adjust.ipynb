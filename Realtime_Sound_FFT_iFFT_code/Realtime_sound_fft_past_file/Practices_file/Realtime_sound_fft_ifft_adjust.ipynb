{
 "metadata": {
  "language_info": {
   "codemirror_mode": {
    "name": "ipython",
    "version": 3
   },
   "file_extension": ".py",
   "mimetype": "text/x-python",
   "name": "python",
   "nbconvert_exporter": "python",
   "pygments_lexer": "ipython3",
   "version": "3.8.5-final"
  },
  "orig_nbformat": 2,
  "kernelspec": {
   "name": "python38564bit2a70bc77268b4f81b593ce476bb08a4d",
   "display_name": "Python 3.8.5 64-bit"
  }
 },
 "nbformat": 4,
 "nbformat_minor": 2,
 "cells": [
  {
   "cell_type": "code",
   "execution_count": null,
   "metadata": {
    "tags": []
   },
   "outputs": [],
   "source": [
    "\"\"\"\n",
    "Mark Jay 코드 기반으로 함.\n",
    "Notebook for streaming data from a microphone in realtime\n",
    "\n",
    "audio is captured using pyaudio\n",
    "then converted from binary data to ints using struct\n",
    "then displayed using matplotlib\n",
    "\n",
    "scipy.fftpack computes the FFT\n",
    "\"\"\"\n",
    "\n",
    "import pyaudio\n",
    "import os\n",
    "import struct\n",
    "import numpy as np\n",
    "import matplotlib.pyplot as plt\n",
    "from scipy.fftpack import fft\n",
    "from scipy.fftpack import ifft\n",
    "import time\n",
    "from tkinter import TclError\n",
    "\n",
    "# to display in separate Tk window\n",
    "%matplotlib tk\n",
    "\n",
    "# constants\n",
    "RATE =  192000              # samples per second , 96000Hz\n",
    "FRE_RESOLUTION = 10            # frequency domain resolution \n",
    "CHUNK =  RATE // FRE_RESOLUTION      # samples per frame,   // 는 소수점을 버리고 정수만 취한다. \n",
    "FORMAT = pyaudio.paInt16         # audio format (bytes per sample?)\n",
    "CHANNELS = 1                     # single channel for microphone\n",
    "SECOND_PER_FRAME = CHUNK / RATE  # second per frame, 한 프레임당 걸리는 시간 \n",
    "BLOCKING_LOW_FREQUENCY = 100     # LOW range frequency blocking filter, Hz\n",
    "BLOCKING_HIGH_FREQUENCY = 10000  # HIGH range frequency blocking filter, Hz\n",
    "SHIFT_FREQUENCY = 30000         # 주파수 data를 이동시킬 주파수 \n"
   ]
  },
  {
   "cell_type": "code",
   "execution_count": null,
   "metadata": {
    "tags": []
   },
   "outputs": [],
   "source": [
    "print(CHUNK, 1/SECOND_PER_FRAME, BLOCKING_LOW_FREQUENCY // FRE_RESOLUTION, BLOCKING_HIGH_FREQUENCY // FRE_RESOLUTION, SHIFT_FREQUENCY//FRE_RESOLUTION )"
   ]
  },
  {
   "cell_type": "code",
   "execution_count": null,
   "metadata": {},
   "outputs": [],
   "source": [
    "\n",
    "t = np.array(np.linspace(0, SECOND_PER_FRAME, CHUNK)) # len(t) = CHUNK\n",
    "\n",
    "frequency = np.array(np.arange(0, RATE, 1/SECOND_PER_FRAME ))  # len(frequencty) = CHUNK, 0 부터 RATE까지 1/SECOND_PER_FRAME 간격으로 만든 행렬\n",
    "\n",
    "# 1/SECOND_PER_FRAME, len(t), len(frequency)"
   ]
  },
  {
   "source": [
    "# create matplotlib figure and axes\n",
    "fig, (ax1, ax2, ax3) = plt.subplots(3, figsize=(10, 5))\n",
    "\n",
    "# pyaudio class instance\n",
    "p = pyaudio.PyAudio()\n",
    "\n",
    "# stream object to get data from microphone\n",
    "stream = p.open(\n",
    "    format=FORMAT,\n",
    "    channels=CHANNELS,\n",
    "    rate=RATE,\n",
    "    input=True,\n",
    "    output=True,\n",
    "    frames_per_buffer= CHUNK\n",
    ")\n",
    "\n",
    "# # create a line object with random data 실시간 plot을 위한 line 함수들 \n",
    "line, = ax1.plot(t, np.random.rand(CHUNK), '-', lw=2)  # CHUNK갯수 만큼의 rand(0~1 사이의 랜덤 숫자 생성) 행렬을 만든다. \n",
    "line_fft, = ax2.plot(frequency, np.random.rand(CHUNK), '.', lw=2)  # input_sound_fft용\n",
    "line_ifft, = ax3.plot(t, np.random.rand(CHUNK), '--', lw=2)          # soundagain ifft용\n",
    "\n",
    "\n",
    "# format waveform axes\n",
    "ax1.set_ylim(0, 255)\n",
    "ax1.set_xlim(0, SECOND_PER_FRAME)\n",
    "\n",
    "ax3.set_xlim(0, SECOND_PER_FRAME)\n",
    "ax3.set_ylim(0, 255)          # ifft ax3 의 ylim 범위 \n",
    "# format spectrum axes\n",
    "ax2.set_xlim(20, RATE)\n",
    "ax2.set_ylim(-0.1, 1.3)\n",
    "\n",
    "\n",
    "# for measuring frame rate\n",
    "print('stream started')\n",
    "frame_count = 0\n",
    "start_time = time.time()\n",
    "    \n",
    "while True:\n",
    "\n",
    "    # binary data   \n",
    "    data = stream.read(CHUNK)  \n",
    "    \n",
    "    # convert data to integers, make np array, then offset it by 127\n",
    "    data_int = struct.unpack(str(2 * CHUNK) + 'B', data)\n",
    "    \n",
    "    # create np array and offset by 128\n",
    "    # data_np = np.array(data_int, dtype='b')[::2] + 128 \n",
    "\n",
    "    data_np = np.array(data_int, dtype='b')[::2] + 128  \n",
    "\n",
    "    line.set_ydata(data_np) # line(ax1)dp y데이터 입력 \n",
    "\n",
    "    # compute FFT and update line\n",
    "    yf = fft(data_int)  # yf is complex data and length is 2 x CHUNK \n",
    "    # yfft = np.abs(yf[0:])   # length = 2 * CHUNK\n",
    "    yfft = np.abs(yf[0:CHUNK]) # length =  CHUNK  이것이 좋다. RATE을 넘어가는 hz는 의미가 없다. \n",
    "    \n",
    "    # FFT data manipulation - cut the low and high frequency \n",
    "    yfft[0:BLOCKING_LOW_FREQUENCY // FRE_RESOLUTION + 1] = 0   # 0hz~ BLOCKING_LOW_FREQUENCY Hz 까지 0으로 만든다. \n",
    "    yfft[BLOCKING_HIGH_FREQUENCY // FRE_RESOLUTION:] = 0    # BLOCKING_HIGH_FREQUENCY Hz ~ 끝까지 0으로 만든다. \n",
    "\n",
    "    # FFT data manipulation - shift total frequency data \n",
    "    yfft[(SHIFT_FREQUENCY // FRE_RESOLUTION) : (SHIFT_FREQUENCY // FRE_RESOLUTION + BLOCKING_HIGH_FREQUENCY // FRE_RESOLUTION)] = \\\n",
    "     yfft[0:BLOCKING_HIGH_FREQUENCY // FRE_RESOLUTION ]  #  0 ~ HIHG_FRE.까지의 fft 데이터를 SHIFT_FRE. ~ SHIFT_FRE.+HIHG_FRE.로 복사함. \n",
    "\n",
    "    # remove the original fft data(0 ~ BLOCKING_HIGH_FREQUENCY Area) \n",
    "    yfft[0:BLOCKING_HIGH_FREQUENCY // FRE_RESOLUTION ] = 0 \n",
    "\n",
    "\n",
    "    # fft data update line\n",
    "    line_fft.set_ydata(yfft / (128 * CHUNK))\n",
    "\n",
    "    # compute IFFT and update line\n",
    "    iyfft = (ifft(yfft) / (4.1) )  + 128\n",
    "    # print(np.real(iyfft[2500:2505]))\n",
    "    line_ifft.set_ydata(np.real(iyfft))\n",
    "\n",
    "\n",
    "# line_fft.set_ydata(yf)\n",
    "# line_fft.set_ydata(np.abs(yf[0:CHUNK])  / (128 * CHUNK))  # line_fft(ax2)에 y데이터 입력 \n",
    "\n",
    "    # update figure canvas\n",
    "\n",
    "    # fig.canvas.draw()\n",
    "    # fig.canvas.flush_events()\n",
    "# plt.plot(t, np.abs(soundagain))   # soundagin의 abs와 real 은 동일한 결과를 준다. \n",
    "# plt.show()\n",
    "    \n",
    "    try:\n",
    "        fig.canvas.draw()\n",
    "        fig.canvas.flush_events()\n",
    "        frame_count += 1\n",
    "        \n",
    "    except TclError:\n",
    "        \n",
    "        # calculate average frame rate\n",
    "        frame_rate = frame_count / (time.time() - start_time)\n",
    "        \n",
    "        print('stream stopped')\n",
    "        print('average frame rate = {:.0f} FPS'.format(frame_rate))\n",
    "        break\n"
   ],
   "cell_type": "code",
   "metadata": {
    "tags": []
   },
   "execution_count": null,
   "outputs": []
  },
  {
   "cell_type": "code",
   "execution_count": 9,
   "metadata": {},
   "outputs": [
    {
     "output_type": "execute_result",
     "data": {
      "text/plain": "array([0. , 0.1, 0.2, 0.3, 0.4, 0.5, 0.6, 0.7, 0.8, 0.9, 1. , 1.1, 1.2,\n       1.3, 1.4, 1.5, 1.6, 1.7, 1.8, 1.9, 2. , 2.1, 2.2, 2.3, 2.4, 2.5,\n       2.6, 2.7, 2.8, 2.9, 3. , 3.1, 3.2, 3.3, 3.4, 3.5, 3.6, 3.7, 3.8,\n       3.9, 4. , 4.1, 4.2, 4.3, 4.4, 4.5, 4.6, 4.7, 4.8, 4.9])"
     },
     "metadata": {},
     "execution_count": 9
    }
   ],
   "source": [
    "a = np.arange(0, 5, 0.1)\n",
    "a\n"
   ]
  },
  {
   "cell_type": "code",
   "execution_count": null,
   "metadata": {},
   "outputs": [],
   "source": []
  }
 ]
}