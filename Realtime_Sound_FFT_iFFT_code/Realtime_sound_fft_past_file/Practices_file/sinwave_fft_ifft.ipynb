{
 "metadata": {
  "language_info": {
   "codemirror_mode": {
    "name": "ipython",
    "version": 3
   },
   "file_extension": ".py",
   "mimetype": "text/x-python",
   "name": "python",
   "nbconvert_exporter": "python",
   "pygments_lexer": "ipython3",
   "version": "3.8.5-final"
  },
  "orig_nbformat": 2,
  "kernelspec": {
   "name": "python38564bit2a70bc77268b4f81b593ce476bb08a4d",
   "display_name": "Python 3.8.5 64-bit"
  }
 },
 "nbformat": 4,
 "nbformat_minor": 2,
 "cells": [
  {
   "cell_type": "code",
   "execution_count": 1,
   "metadata": {
    "tags": []
   },
   "outputs": [],
   "source": [
    "# subtitle: Using scipy ffpack fft \n",
    "# writer: Physics With Nero\n",
    "# https:// www.youtube.com/watch?v=6U226pAQixY\n",
    "'''\n",
    "이  fft 는 scipy fft를 이용한다.\n",
    "''' \n",
    "\n",
    "import matplotlib.pyplot as plt\n",
    "from scipy import fftpack\n",
    "import numpy as np\n",
    "\n",
    "# %matplotlib inline     \n",
    "# plot을 editer안에 표시한다. \n",
    "%matplotlib tk       \n",
    "# plot을 editer밖에 표시한다. \n",
    "SamplingNumberperSecond = 1000    #SN/second\n",
    "TotalTimes = 2 # second"
   ]
  },
  {
   "cell_type": "code",
   "execution_count": 2,
   "metadata": {
    "tags": []
   },
   "outputs": [
    {
     "output_type": "execute_result",
     "data": {
      "text/plain": "(2000, 2000)"
     },
     "metadata": {},
     "execution_count": 2
    }
   ],
   "source": [
    "# x = np.array(np.linspace(0, 2, 2000))   # 0 부터 2까지 1000개의 행렬로 나눈다. 즉 각 행렬값의 차이는 ts = 1/1000 이다  \n",
    "\n",
    "x = np.array(np.linspace(0, TotalTimes, SamplingNumberperSecond*TotalTimes))\n",
    "\n",
    "# xf = np.array(np.linspace(0, SamplingNumberperSecond, 1/TotalTimes )) \n",
    "xf = np.array(np.arange(0, SamplingNumberperSecond, 1/TotalTimes ))\n",
    "y = np.sin(2*np.pi*5*x)  # sin함수인데, 한주기가 1/5 second이다. 즉 한주기가 0.2s 즉 5Hz\n",
    "len(x), len(xf)"
   ]
  },
  {
   "cell_type": "code",
   "execution_count": 3,
   "metadata": {
    "tags": []
   },
   "outputs": [
    {
     "output_type": "execute_result",
     "data": {
      "text/plain": "(2000,\n array([-9.29811783e-15-0.j        ,  1.58572305e-04-0.10095018j,\n         6.54090115e-04-0.20820267j,  1.55247672e-03-0.32944335j,\n         2.98968148e-03-0.47581632j,  5.23119561e-03-0.66604282j,\n         8.82562123e-03-0.93639977j,  1.50687027e-02-1.37037821j,\n         2.78594919e-02-2.21687123j,  6.66424981e-02-4.71367839j]))"
     },
     "metadata": {},
     "execution_count": 3
    }
   ],
   "source": [
    "c = fftpack.fft(y)   # c는 complex 데이터 이다. 1000개의 행렬을 가진다. \n",
    "c[0:10]\n",
    "clen = len(c)    # c SamplingNumberperSecond * TotalTimes의 숫자의 행렬을 갖는다. \n",
    "clen, c[0:10]"
   ]
  },
  {
   "cell_type": "code",
   "execution_count": 4,
   "metadata": {
    "tags": []
   },
   "outputs": [],
   "source": [
    "# %matplotlib tk  \n",
    "plt.plot(xf ,abs(c), \".\")   # abs(c) = c*c' , imagine 이 사라진다. \n",
    "plt.show()               "
   ]
  },
  {
   "cell_type": "code",
   "execution_count": 5,
   "metadata": {
    "tags": []
   },
   "outputs": [
    {
     "output_type": "stream",
     "name": "stdout",
     "text": "[ 3.55271368e-18-3.33066907e-19j  3.14264671e-02-5.75754722e-17j\n  6.28218891e-02-1.35308431e-18j ... -6.28218891e-02-1.12447709e-16j\n -3.14264671e-02-3.39790943e-17j -2.46203058e-15+1.30500993e-18j]\n"
    }
   ],
   "source": [
    "y_again = fftpack.ifft(c)\n",
    "print(y_again)"
   ]
  },
  {
   "cell_type": "code",
   "execution_count": 6,
   "metadata": {},
   "outputs": [],
   "source": [
    "plt.plot(x, np.real(y_again))\n",
    "plt.show()"
   ]
  },
  {
   "cell_type": "code",
   "execution_count": null,
   "metadata": {},
   "outputs": [],
   "source": []
  }
 ]
}