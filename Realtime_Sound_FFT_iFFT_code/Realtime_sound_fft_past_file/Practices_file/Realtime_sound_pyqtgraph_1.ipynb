{
 "metadata": {
  "language_info": {
   "codemirror_mode": {
    "name": "ipython",
    "version": 3
   },
   "file_extension": ".py",
   "mimetype": "text/x-python",
   "name": "python",
   "nbconvert_exporter": "python",
   "pygments_lexer": "ipython3",
   "version": "3.8.5-final"
  },
  "orig_nbformat": 2,
  "kernelspec": {
   "name": "python38564bit2a70bc77268b4f81b593ce476bb08a4d",
   "display_name": "Python 3.8.5 64-bit"
  }
 },
 "nbformat": 4,
 "nbformat_minor": 2,
 "cells": [
  {
   "cell_type": "code",
   "execution_count": 1,
   "metadata": {},
   "outputs": [],
   "source": [
    "# 출처 : Let's Build an Audio Spectrum Analyzer in Python! (pt. 3) Switching to PyQtGraph\n",
    "# https://www.youtube.com/watch?v=RHmTgapLu4s&list=PLh8dV4ohqrFVw3ttwYrLzGfpJtX9UaNyu&index=3\n",
    "\n",
    "from pyqtgraph.Qt import QtGui, QtCore\n",
    "import numpy as np\n",
    "import pyqtgraph as pg\n",
    "import sys"
   ]
  },
  {
   "cell_type": "code",
   "execution_count": 2,
   "metadata": {
    "tags": []
   },
   "outputs": [],
   "source": [
    "# 출처 : Let's Build an Audio Spectrum Analyzer in Python! (pt. 3) Switching to PyQtGraph\n",
    "# https://www.youtube.com/watch?v=RHmTgapLu4s&list=PLh8dV4ohqrFVw3ttwYrLzGfpJtX9UaNyu&index=3\n",
    "\n",
    "# from pyqtgraph.Qt import QtGui, QtCore\n",
    "# import numpy as np\n",
    "# import pyqtgraph as pg\n",
    "# import sys\n",
    "\n",
    "class PLot2D(object):\n",
    "    def __init__(self):\n",
    "        self.traces = dict()\n",
    "\n",
    "        self.phase = 0\n",
    "        self.t = np.arange(0, 3.0, 0.01)\n",
    "        \n",
    "        pg.setConfigOptions(antialias=True)\n",
    "        \n",
    "        self.app = QtGui.QApplication(sys.argv)\n",
    "        self.win = pg.GraphicsWindow(title=\"basic plotting examples\")\n",
    "        self.win.resize(1000, 600)\n",
    "        self.win.setWindowTitle('pyqtgraph example: plotting')\n",
    "        self.canvas = self.win.addPlot(title=\"Pytelemetry\")\n",
    "    \n",
    "    def start(self):\n",
    "        if (sys.flags.interactive != 1) or not hasattr(QtCore, 'PYQT_VERSION'):\n",
    "            QtGui.QApplication.instance().exec_()\n",
    "\n",
    "    def trace(self,name,dataset_x,dataset_y):\n",
    "        if name in self.traces:\n",
    "            self.traces[name].setData(dataset_x,dataset_y)\n",
    "        else:\n",
    "            self.traces[name] = self.canvas.plot(pen='y')\n",
    "    \n",
    "    def update(self):\n",
    "        s = np.sin(2 * np.pi * self.t +self.phase)\n",
    "        c = np.cos(2 * np.pi *self.t + self.phase)\n",
    "\n",
    "        self.trace(\"sin\", self.t, s)\n",
    "        self.trace(\"cos\", self.t, c)\n",
    "        self.phase += 0.1\n",
    "\n",
    "    def animation(self):\n",
    "        timer = QtCore.QTimer()\n",
    "        timer.timeout.connect(self.update)\n",
    "        timer.start(10)\n",
    "        self.start()\n",
    "    \n",
    "p =PLot2D()\n",
    "p.animation()\n",
    "# if __name__== '__main__':    # Jupyter 에선 이것처럼 하면 실행이 안된다. \n",
    "#     p = PLot2D()\n",
    "#     p.animation()"
   ]
  },
  {
   "cell_type": "code",
   "execution_count": null,
   "metadata": {},
   "outputs": [],
   "source": []
  }
 ]
}